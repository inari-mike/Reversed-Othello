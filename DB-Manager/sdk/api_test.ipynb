{
 "cells": [
  {
   "cell_type": "markdown",
   "metadata": {},
   "source": [
    "# Redis Utils"
   ]
  },
  {
   "cell_type": "code",
   "execution_count": 1,
   "metadata": {},
   "outputs": [
    {
     "name": "stdout",
     "output_type": "stream",
     "text": [
      "Requirement already satisfied: redis in d:\\python\\python311\\lib\\site-packages (5.0.3)\n",
      "Requirement already satisfied: async-timeout>=4.0.3 in d:\\python\\python311\\lib\\site-packages (from redis) (4.0.3)\n",
      "Note: you may need to restart the kernel to use updated packages.\n"
     ]
    }
   ],
   "source": [
    "%pip install redis"
   ]
  },
  {
   "cell_type": "code",
   "execution_count": 1,
   "metadata": {},
   "outputs": [
    {
     "data": {
      "text/plain": [
       "'21eab04ea8a6c6a0993ea56914fc5fb3305d95773251b6d84802f3fb619b1c06'"
      ]
     },
     "execution_count": 1,
     "metadata": {},
     "output_type": "execute_result"
    }
   ],
   "source": [
    "import os\n",
    "import hashlib\n",
    "\n",
    "os.chdir(\"..\")\n",
    "from redis_util import Redis\n",
    "\n",
    "os.chdir(\"sdk\")\n",
    "\n",
    "\n",
    "\n",
    "example_state = \"OX.X\"\n",
    "example_hash = hashlib.sha256(example_state.encode('ascii')).hexdigest() # TODO\n",
    "example_hash"
   ]
  },
  {
   "cell_type": "code",
   "execution_count": 2,
   "metadata": {},
   "outputs": [],
   "source": [
    "mr = Redis(host=\"localhost\")"
   ]
  },
  {
   "cell_type": "code",
   "execution_count": 3,
   "metadata": {},
   "outputs": [
    {
     "data": {
      "text/plain": [
       "{'action': None, 'expire_timestamp': 1713675554}"
      ]
     },
     "execution_count": 3,
     "metadata": {},
     "output_type": "execute_result"
    }
   ],
   "source": [
    "mr.create_record(\n",
    "    hash_of_state=example_hash,\n",
    "    wait_time=1\n",
    ")\n",
    "mr.get_record(\n",
    "    hash_of_state=example_hash\n",
    ")\n",
    "# action should be None in the begining"
   ]
  },
  {
   "cell_type": "code",
   "execution_count": 4,
   "metadata": {},
   "outputs": [
    {
     "data": {
      "text/plain": [
       "{'action': '0,2', 'expire_timestamp': 1713675554}"
      ]
     },
     "execution_count": 4,
     "metadata": {},
     "output_type": "execute_result"
    }
   ],
   "source": [
    "mr.update_record(\n",
    "    hash_of_state=example_hash,\n",
    "    action = \"0,2\"\n",
    ")\n",
    "mr.get_record(\n",
    "    hash_of_state=example_hash\n",
    ")\n",
    "# action will be changed to '0,2'"
   ]
  },
  {
   "cell_type": "markdown",
   "metadata": {},
   "source": [
    "# DBManager"
   ]
  },
  {
   "cell_type": "code",
   "execution_count": 5,
   "metadata": {},
   "outputs": [
    {
     "data": {
      "text/plain": [
       "b'Hello, this is DB-Manager!'"
      ]
     },
     "execution_count": 5,
     "metadata": {},
     "output_type": "execute_result"
    }
   ],
   "source": [
    "from db_manager import DBManager\n",
    "\n",
    "dm = DBManager()\n",
    "res = dm.hello()\n",
    "\n",
    "res.content\n",
    "# b'Hello, this is DB-Manager!'"
   ]
  },
  {
   "cell_type": "code",
   "execution_count": 6,
   "metadata": {},
   "outputs": [
    {
     "name": "stdout",
     "output_type": "stream",
     "text": [
      "this is from database manager: b'[\\n  200,\\n  \"update record success!\"\\n]\\n'\n"
     ]
    },
    {
     "data": {
      "text/plain": [
       "{'action': '0,2', 'expire_timestamp': 1713675554}"
      ]
     },
     "execution_count": 6,
     "metadata": {},
     "output_type": "execute_result"
    }
   ],
   "source": [
    "res = dm.update_record(hash_of_state=example_hash, action=\"0,2\")\n",
    "\n",
    "print(\"this is from database manager:\", res.content)\n",
    "\n",
    "mr.get_record(\n",
    "    hash_of_state=example_hash\n",
    ")"
   ]
  },
  {
   "cell_type": "code",
   "execution_count": 7,
   "metadata": {},
   "outputs": [
    {
     "data": {
      "text/plain": [
       "b'<!doctype html>\\n<html lang=en>\\n  <head>\\n    <title>TypeError: the JSON object must be str, bytes or bytearray, not NoneType\\n // Werkzeug Debugger</title>\\n    <link rel=\"stylesheet\" href=\"?__debugger__=yes&amp;cmd=resource&amp;f=style.css\">\\n    <link rel=\"shortcut icon\"\\n        href=\"?__debugger__=yes&amp;cmd=resource&amp;f=console.png\">\\n    <script src=\"?__debugger__=yes&amp;cmd=resource&amp;f=debugger.js\"></script>\\n    <script>\\n      var CONSOLE_MODE = false,\\n          EVALEX = true,\\n          EVALEX_TRUSTED = false,\\n          SECRET = \"Jn36lOgaPIBLPAnJ0oLh\";\\n    </script>\\n  </head>\\n  <body style=\"background-color: #fff\">\\n    <div class=\"debugger\">\\n<h1>TypeError</h1>\\n<div class=\"detail\">\\n  <p class=\"errormsg\">TypeError: the JSON object must be str, bytes or bytearray, not NoneType\\n</p>\\n</div>\\n<h2 class=\"traceback\">Traceback <em>(most recent call last)</em></h2>\\n<div class=\"traceback\">\\n  <h3></h3>\\n  <ul><li><div class=\"frame\" id=\"frame-140306432398464\">\\n  <h4>File <cite class=\"filename\">\"/usr/local/lib/python3.12/site-packages/flask/app.py\"</cite>,\\n      line <em class=\"line\">1498</em>,\\n      in <code class=\"function\">__call__</code></h4>\\n  <div class=\"source library\"><pre class=\"line before\"><span class=\"ws\">    </span>) -&gt; cabc.Iterable[bytes]:</pre>\\n<pre class=\"line before\"><span class=\"ws\">        </span>&#34;&#34;&#34;The WSGI server calls the Flask application object as the</pre>\\n<pre class=\"line before\"><span class=\"ws\">        </span>WSGI application. This calls :meth:`wsgi_app`, which can be</pre>\\n<pre class=\"line before\"><span class=\"ws\">        </span>wrapped to apply middleware.</pre>\\n<pre class=\"line before\"><span class=\"ws\">        </span>&#34;&#34;&#34;</pre>\\n<pre class=\"line current\"><span class=\"ws\">        </span>return self.wsgi_app(environ, start_response)\\n<span class=\"ws\">        </span>       ^^^^^^^^^^^^^^^^^^^^^^^^^^^^^^^^^^^^^^</pre></div>\\n</div>\\n\\n<li><div class=\"frame\" id=\"frame-140306432399472\">\\n  <h4>File <cite class=\"filename\">\"/usr/local/lib/python3.12/site-packages/flask/app.py\"</cite>,\\n      line <em class=\"line\">1476</em>,\\n      in <code class=\"function\">wsgi_app</code></h4>\\n  <div class=\"source library\"><pre class=\"line before\"><span class=\"ws\">            </span>try:</pre>\\n<pre class=\"line before\"><span class=\"ws\">                </span>ctx.push()</pre>\\n<pre class=\"line before\"><span class=\"ws\">                </span>response = self.full_dispatch_request()</pre>\\n<pre class=\"line before\"><span class=\"ws\">            </span>except Exception as e:</pre>\\n<pre class=\"line before\"><span class=\"ws\">                </span>error = e</pre>\\n<pre class=\"line current\"><span class=\"ws\">                </span>response = self.handle_exception(e)\\n<span class=\"ws\">                </span>           ^^^^^^^^^^^^^^^^^^^^^^^^</pre>\\n<pre class=\"line after\"><span class=\"ws\">            </span>except:  # noqa: B001</pre>\\n<pre class=\"line after\"><span class=\"ws\">                </span>error = sys.exc_info()[1]</pre>\\n<pre class=\"line after\"><span class=\"ws\">                </span>raise</pre>\\n<pre class=\"line after\"><span class=\"ws\">            </span>return response(environ, start_response)</pre>\\n<pre class=\"line after\"><span class=\"ws\">        </span>finally:</pre></div>\\n</div>\\n\\n<li><div class=\"frame\" id=\"frame-140306432399616\">\\n  <h4>File <cite class=\"filename\">\"/usr/local/lib/python3.12/site-packages/flask/app.py\"</cite>,\\n      line <em class=\"line\">1473</em>,\\n      in <code class=\"function\">wsgi_app</code></h4>\\n  <div class=\"source library\"><pre class=\"line before\"><span class=\"ws\">        </span>ctx = self.request_context(environ)</pre>\\n<pre class=\"line before\"><span class=\"ws\">        </span>error: BaseException | None = None</pre>\\n<pre class=\"line before\"><span class=\"ws\">        </span>try:</pre>\\n<pre class=\"line before\"><span class=\"ws\">            </span>try:</pre>\\n<pre class=\"line before\"><span class=\"ws\">                </span>ctx.push()</pre>\\n<pre class=\"line current\"><span class=\"ws\">                </span>response = self.full_dispatch_request()\\n<span class=\"ws\">                </span>           ^^^^^^^^^^^^^^^^^^^^^^^^^^^^</pre>\\n<pre class=\"line after\"><span class=\"ws\">            </span>except Exception as e:</pre>\\n<pre class=\"line after\"><span class=\"ws\">                </span>error = e</pre>\\n<pre class=\"line after\"><span class=\"ws\">                </span>response = self.handle_exception(e)</pre>\\n<pre class=\"line after\"><span class=\"ws\">            </span>except:  # noqa: B001</pre>\\n<pre class=\"line after\"><span class=\"ws\">                </span>error = sys.exc_info()[1]</pre></div>\\n</div>\\n\\n<li><div class=\"frame\" id=\"frame-140306432399760\">\\n  <h4>File <cite class=\"filename\">\"/usr/local/lib/python3.12/site-packages/flask/app.py\"</cite>,\\n      line <em class=\"line\">882</em>,\\n      in <code class=\"function\">full_dispatch_request</code></h4>\\n  <div class=\"source library\"><pre class=\"line before\"><span class=\"ws\">            </span>request_started.send(self, _async_wrapper=self.ensure_sync)</pre>\\n<pre class=\"line before\"><span class=\"ws\">            </span>rv = self.preprocess_request()</pre>\\n<pre class=\"line before\"><span class=\"ws\">            </span>if rv is None:</pre>\\n<pre class=\"line before\"><span class=\"ws\">                </span>rv = self.dispatch_request()</pre>\\n<pre class=\"line before\"><span class=\"ws\">        </span>except Exception as e:</pre>\\n<pre class=\"line current\"><span class=\"ws\">            </span>rv = self.handle_user_exception(e)\\n<span class=\"ws\">            </span>     ^^^^^^^^^^^^^^^^^^^^^^^^^^^^^</pre>\\n<pre class=\"line after\"><span class=\"ws\">        </span>return self.finalize_request(rv)</pre>\\n<pre class=\"line after\"><span class=\"ws\"></span> </pre>\\n<pre class=\"line after\"><span class=\"ws\">    </span>def finalize_request(</pre>\\n<pre class=\"line after\"><span class=\"ws\">        </span>self,</pre>\\n<pre class=\"line after\"><span class=\"ws\">        </span>rv: ft.ResponseReturnValue | HTTPException,</pre></div>\\n</div>\\n\\n<li><div class=\"frame\" id=\"frame-140306432399904\">\\n  <h4>File <cite class=\"filename\">\"/usr/local/lib/python3.12/site-packages/flask/app.py\"</cite>,\\n      line <em class=\"line\">880</em>,\\n      in <code class=\"function\">full_dispatch_request</code></h4>\\n  <div class=\"source library\"><pre class=\"line before\"><span class=\"ws\"></span> </pre>\\n<pre class=\"line before\"><span class=\"ws\">        </span>try:</pre>\\n<pre class=\"line before\"><span class=\"ws\">            </span>request_started.send(self, _async_wrapper=self.ensure_sync)</pre>\\n<pre class=\"line before\"><span class=\"ws\">            </span>rv = self.preprocess_request()</pre>\\n<pre class=\"line before\"><span class=\"ws\">            </span>if rv is None:</pre>\\n<pre class=\"line current\"><span class=\"ws\">                </span>rv = self.dispatch_request()\\n<span class=\"ws\">                </span>     ^^^^^^^^^^^^^^^^^^^^^^^</pre>\\n<pre class=\"line after\"><span class=\"ws\">        </span>except Exception as e:</pre>\\n<pre class=\"line after\"><span class=\"ws\">            </span>rv = self.handle_user_exception(e)</pre>\\n<pre class=\"line after\"><span class=\"ws\">        </span>return self.finalize_request(rv)</pre>\\n<pre class=\"line after\"><span class=\"ws\"></span> </pre>\\n<pre class=\"line after\"><span class=\"ws\">    </span>def finalize_request(</pre></div>\\n</div>\\n\\n<li><div class=\"frame\" id=\"frame-140306432400048\">\\n  <h4>File <cite class=\"filename\">\"/usr/local/lib/python3.12/site-packages/flask/app.py\"</cite>,\\n      line <em class=\"line\">865</em>,\\n      in <code class=\"function\">dispatch_request</code></h4>\\n  <div class=\"source library\"><pre class=\"line before\"><span class=\"ws\">            </span>and req.method == &#34;OPTIONS&#34;</pre>\\n<pre class=\"line before\"><span class=\"ws\">        </span>):</pre>\\n<pre class=\"line before\"><span class=\"ws\">            </span>return self.make_default_options_response()</pre>\\n<pre class=\"line before\"><span class=\"ws\">        </span># otherwise dispatch to the handler for that endpoint</pre>\\n<pre class=\"line before\"><span class=\"ws\">        </span>view_args: dict[str, t.Any] = req.view_args  # type: ignore[assignment]</pre>\\n<pre class=\"line current\"><span class=\"ws\">        </span>return self.ensure_sync(self.view_functions[rule.endpoint])(**view_args)  # type: ignore[no-any-return]\\n<span class=\"ws\">        </span>       ^^^^^^^^^^^^^^^^^^^^^^^^^^^^^^^^^^^^^^^^^^^^^^^^^^^^^^^^^^^^^^^^^</pre>\\n<pre class=\"line after\"><span class=\"ws\"></span> </pre>\\n<pre class=\"line after\"><span class=\"ws\">    </span>def full_dispatch_request(self) -&gt; Response:</pre>\\n<pre class=\"line after\"><span class=\"ws\">        </span>&#34;&#34;&#34;Dispatches the request and on top of that performs request</pre>\\n<pre class=\"line after\"><span class=\"ws\">        </span>pre and postprocessing as well as HTTP exception catching and</pre>\\n<pre class=\"line after\"><span class=\"ws\">        </span>error handling.</pre></div>\\n</div>\\n\\n<li><div class=\"frame\" id=\"frame-140306432400192\">\\n  <h4>File <cite class=\"filename\">\"/app/DB-Manager/app.py\"</cite>,\\n      line <em class=\"line\">27</em>,\\n      in <code class=\"function\">get_choice</code></h4>\\n  <div class=\"source \"><pre class=\"line before\"><span class=\"ws\">    </span>state = request.args.get(&#39;state&#39;)</pre>\\n<pre class=\"line before\"><span class=\"ws\">    </span>hash_of_state = hash(state) # TODO</pre>\\n<pre class=\"line before\"><span class=\"ws\">    </span>print(state)</pre>\\n<pre class=\"line before\"><span class=\"ws\">    </span>print(hash_of_state)</pre>\\n<pre class=\"line before\"><span class=\"ws\"></span> </pre>\\n<pre class=\"line current\"><span class=\"ws\">    </span>record = redis_handler.get_record(hash_of_state)\\n<span class=\"ws\">    </span>         ^^^^^^^^^^^^^^^^^^^^^^^^^^^^^^^^^^^^^^^</pre>\\n<pre class=\"line after\"><span class=\"ws\"></span> </pre>\\n<pre class=\"line after\"><span class=\"ws\">    </span>if record is dict:</pre>\\n<pre class=\"line after\"><span class=\"ws\">        </span>return jsonify(200, record[&#34;action&#34;])</pre>\\n<pre class=\"line after\"><span class=\"ws\"></span> </pre>\\n<pre class=\"line after\"><span class=\"ws\">    </span>else:</pre></div>\\n</div>\\n\\n<li><div class=\"frame\" id=\"frame-140306432400336\">\\n  <h4>File <cite class=\"filename\">\"/app/DB-Manager/redis_util.py\"</cite>,\\n      line <em class=\"line\">53</em>,\\n      in <code class=\"function\">get_record</code></h4>\\n  <div class=\"source \"><pre class=\"line before\"><span class=\"ws\">        </span>r.set(hash_of_state, record_str)</pre>\\n<pre class=\"line before\"><span class=\"ws\"></span> </pre>\\n<pre class=\"line before\"><span class=\"ws\">    </span>def get_record(self, hash_of_state: int) -&gt; dict | None:</pre>\\n<pre class=\"line before\"><span class=\"ws\">        </span>r = self.get_redis_connection()</pre>\\n<pre class=\"line before\"><span class=\"ws\">        </span>record_str: str = r.get(hash_of_state) # TODO error handling</pre>\\n<pre class=\"line current\"><span class=\"ws\">        </span>record: dict = json.loads(record_str)\\n<span class=\"ws\">        </span>               ^^^^^^^^^^^^^^^^^^^^^^</pre>\\n<pre class=\"line after\"><span class=\"ws\">        </span>return record</pre>\\n<pre class=\"line after\"><span class=\"ws\"></span> </pre>\\n<pre class=\"line after\"><span class=\"ws\"></span> </pre>\\n<pre class=\"line after\"><span class=\"ws\">    </span>def update_record(self, hash_of_state: int, action: list[int]):</pre>\\n<pre class=\"line after\"><span class=\"ws\">        </span>record = self.get_record(hash_of_state)</pre></div>\\n</div>\\n\\n<li><div class=\"frame\" id=\"frame-140306432400624\">\\n  <h4>File <cite class=\"filename\">\"/usr/local/lib/python3.12/json/__init__.py\"</cite>,\\n      line <em class=\"line\">339</em>,\\n      in <code class=\"function\">loads</code></h4>\\n  <div class=\"source library\"><pre class=\"line before\"><span class=\"ws\">        </span>if s.startswith(&#39;\\\\ufeff&#39;):</pre>\\n<pre class=\"line before\"><span class=\"ws\">            </span>raise JSONDecodeError(&#34;Unexpected UTF-8 BOM (decode using utf-8-sig)&#34;,</pre>\\n<pre class=\"line before\"><span class=\"ws\">                                  </span>s, 0)</pre>\\n<pre class=\"line before\"><span class=\"ws\">    </span>else:</pre>\\n<pre class=\"line before\"><span class=\"ws\">        </span>if not isinstance(s, (bytes, bytearray)):</pre>\\n<pre class=\"line current\"><span class=\"ws\">            </span>raise TypeError(f&#39;the JSON object must be str, bytes or bytearray, &#39;\\n<span class=\"ws\">            </span>^^^^^^^^^^^^^^^^^^^^^^^^^^^^^^^^^^^^^^^^^^^^^^</pre>\\n<pre class=\"line after\"><span class=\"ws\">                            </span>f&#39;not {s.__class__.__name__}&#39;)</pre>\\n<pre class=\"line after\"><span class=\"ws\">        </span>s = s.decode(detect_encoding(s), &#39;surrogatepass&#39;)</pre>\\n<pre class=\"line after\"><span class=\"ws\"></span> </pre>\\n<pre class=\"line after\"><span class=\"ws\">    </span>if (cls is None and object_hook is None and</pre>\\n<pre class=\"line after\"><span class=\"ws\">            </span>parse_int is None and parse_float is None and</pre></div>\\n</div>\\n</ul>\\n  <blockquote>TypeError: the JSON object must be str, bytes or bytearray, not NoneType\\n</blockquote>\\n</div>\\n\\n<div class=\"plain\">\\n    <p>\\n      This is the Copy/Paste friendly version of the traceback.\\n    </p>\\n    <textarea cols=\"50\" rows=\"10\" name=\"code\" readonly>Traceback (most recent call last):\\n  File &#34;/usr/local/lib/python3.12/site-packages/flask/app.py&#34;, line 1498, in __call__\\n    return self.wsgi_app(environ, start_response)\\n           ^^^^^^^^^^^^^^^^^^^^^^^^^^^^^^^^^^^^^^\\n  File &#34;/usr/local/lib/python3.12/site-packages/flask/app.py&#34;, line 1476, in wsgi_app\\n    response = self.handle_exception(e)\\n               ^^^^^^^^^^^^^^^^^^^^^^^^\\n  File &#34;/usr/local/lib/python3.12/site-packages/flask/app.py&#34;, line 1473, in wsgi_app\\n    response = self.full_dispatch_request()\\n               ^^^^^^^^^^^^^^^^^^^^^^^^^^^^\\n  File &#34;/usr/local/lib/python3.12/site-packages/flask/app.py&#34;, line 882, in full_dispatch_request\\n    rv = self.handle_user_exception(e)\\n         ^^^^^^^^^^^^^^^^^^^^^^^^^^^^^\\n  File &#34;/usr/local/lib/python3.12/site-packages/flask/app.py&#34;, line 880, in full_dispatch_request\\n    rv = self.dispatch_request()\\n         ^^^^^^^^^^^^^^^^^^^^^^^\\n  File &#34;/usr/local/lib/python3.12/site-packages/flask/app.py&#34;, line 865, in dispatch_request\\n    return self.ensure_sync(self.view_functions[rule.endpoint])(**view_args)  # type: ignore[no-any-return]\\n           ^^^^^^^^^^^^^^^^^^^^^^^^^^^^^^^^^^^^^^^^^^^^^^^^^^^^^^^^^^^^^^^^^^^^^^^^^^^^^^^^^^^^^^^^^^^^^^^^\\n  File &#34;/app/DB-Manager/app.py&#34;, line 27, in get_choice\\n    record = redis_handler.get_record(hash_of_state)\\n             ^^^^^^^^^^^^^^^^^^^^^^^^^^^^^^^^^^^^^^^\\n  File &#34;/app/DB-Manager/redis_util.py&#34;, line 53, in get_record\\n    record: dict = json.loads(record_str)\\n                   ^^^^^^^^^^^^^^^^^^^^^^\\n  File &#34;/usr/local/lib/python3.12/json/__init__.py&#34;, line 339, in loads\\n    raise TypeError(f&#39;the JSON object must be str, bytes or bytearray, &#39;\\nTypeError: the JSON object must be str, bytes or bytearray, not NoneType\\n</textarea>\\n</div>\\n<div class=\"explanation\">\\n  The debugger caught an exception in your WSGI application.  You can now\\n  look at the traceback which led to the error.  <span class=\"nojavascript\">\\n  If you enable JavaScript you can also use additional features such as code\\n  execution (if the evalex feature is enabled), automatic pasting of the\\n  exceptions and much more.</span>\\n</div>\\n      <div class=\"footer\">\\n        Brought to you by <strong class=\"arthur\">DON\\'T PANIC</strong>, your\\n        friendly Werkzeug powered traceback interpreter.\\n      </div>\\n    </div>\\n\\n    <div class=\"pin-prompt\">\\n      <div class=\"inner\">\\n        <h3>Console Locked</h3>\\n        <p>\\n          The console is locked and needs to be unlocked by entering the PIN.\\n          You can find the PIN printed out on the standard output of your\\n          shell that runs the server.\\n        <form>\\n          <p>PIN:\\n            <input type=text name=pin size=14>\\n            <input type=submit name=btn value=\"Confirm Pin\">\\n        </form>\\n      </div>\\n    </div>\\n  </body>\\n</html>\\n\\n<!--\\n\\nTraceback (most recent call last):\\n  File \"/usr/local/lib/python3.12/site-packages/flask/app.py\", line 1498, in __call__\\n    return self.wsgi_app(environ, start_response)\\n           ^^^^^^^^^^^^^^^^^^^^^^^^^^^^^^^^^^^^^^\\n  File \"/usr/local/lib/python3.12/site-packages/flask/app.py\", line 1476, in wsgi_app\\n    response = self.handle_exception(e)\\n               ^^^^^^^^^^^^^^^^^^^^^^^^\\n  File \"/usr/local/lib/python3.12/site-packages/flask/app.py\", line 1473, in wsgi_app\\n    response = self.full_dispatch_request()\\n               ^^^^^^^^^^^^^^^^^^^^^^^^^^^^\\n  File \"/usr/local/lib/python3.12/site-packages/flask/app.py\", line 882, in full_dispatch_request\\n    rv = self.handle_user_exception(e)\\n         ^^^^^^^^^^^^^^^^^^^^^^^^^^^^^\\n  File \"/usr/local/lib/python3.12/site-packages/flask/app.py\", line 880, in full_dispatch_request\\n    rv = self.dispatch_request()\\n         ^^^^^^^^^^^^^^^^^^^^^^^\\n  File \"/usr/local/lib/python3.12/site-packages/flask/app.py\", line 865, in dispatch_request\\n    return self.ensure_sync(self.view_functions[rule.endpoint])(**view_args)  # type: ignore[no-any-return]\\n           ^^^^^^^^^^^^^^^^^^^^^^^^^^^^^^^^^^^^^^^^^^^^^^^^^^^^^^^^^^^^^^^^^^^^^^^^^^^^^^^^^^^^^^^^^^^^^^^^\\n  File \"/app/DB-Manager/app.py\", line 27, in get_choice\\n    record = redis_handler.get_record(hash_of_state)\\n             ^^^^^^^^^^^^^^^^^^^^^^^^^^^^^^^^^^^^^^^\\n  File \"/app/DB-Manager/redis_util.py\", line 53, in get_record\\n    record: dict = json.loads(record_str)\\n                   ^^^^^^^^^^^^^^^^^^^^^^\\n  File \"/usr/local/lib/python3.12/json/__init__.py\", line 339, in loads\\n    raise TypeError(f\\'the JSON object must be str, bytes or bytearray, \\'\\nTypeError: the JSON object must be str, bytes or bytearray, not NoneType\\n\\n\\n-->\\n'"
      ]
     },
     "execution_count": 7,
     "metadata": {},
     "output_type": "execute_result"
    }
   ],
   "source": [
    "res = dm.get_choice(state=example_state)\n",
    "res.content"
   ]
  },
  {
   "cell_type": "code",
   "execution_count": 8,
   "metadata": {},
   "outputs": [
    {
     "name": "stdout",
     "output_type": "stream",
     "text": [
      "OX.X\n",
      "21eab04ea8a6c6a0993ea56914fc5fb3305d95773251b6d84802f3fb619b1c06\n"
     ]
    }
   ],
   "source": [
    "print(example_state)\n",
    "print(example_hash)"
   ]
  }
 ],
 "metadata": {
  "kernelspec": {
   "display_name": "Python 3",
   "language": "python",
   "name": "python3"
  },
  "language_info": {
   "codemirror_mode": {
    "name": "ipython",
    "version": 3
   },
   "file_extension": ".py",
   "mimetype": "text/x-python",
   "name": "python",
   "nbconvert_exporter": "python",
   "pygments_lexer": "ipython3",
   "version": "3.11.1"
  }
 },
 "nbformat": 4,
 "nbformat_minor": 2
}
