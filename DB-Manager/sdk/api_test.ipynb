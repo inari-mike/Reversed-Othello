{
 "cells": [
  {
   "cell_type": "markdown",
   "metadata": {},
   "source": [
    "# Redis Utils"
   ]
  },
  {
   "cell_type": "code",
   "execution_count": 1,
   "metadata": {},
   "outputs": [
    {
     "name": "stdout",
     "output_type": "stream",
     "text": [
      "Requirement already satisfied: redis in d:\\python\\python311\\lib\\site-packages (5.0.3)\n",
      "Requirement already satisfied: async-timeout>=4.0.3 in d:\\python\\python311\\lib\\site-packages (from redis) (4.0.3)\n",
      "Note: you may need to restart the kernel to use updated packages.\n"
     ]
    }
   ],
   "source": [
    "%pip install redis"
   ]
  },
  {
   "cell_type": "code",
   "execution_count": 1,
   "metadata": {},
   "outputs": [
    {
     "data": {
      "text/plain": [
       "'21eab04ea8a6c6a0993ea56914fc5fb3305d95773251b6d84802f3fb619b1c06'"
      ]
     },
     "execution_count": 1,
     "metadata": {},
     "output_type": "execute_result"
    }
   ],
   "source": [
    "import os\n",
    "import hashlib\n",
    "\n",
    "os.chdir(\"..\")\n",
    "from redis_util import Redis\n",
    "\n",
    "os.chdir(\"sdk\")\n",
    "\n",
    "\n",
    "\n",
    "example_state = \"OX.X\"\n",
    "example_hash = hashlib.sha256(example_state.encode('ascii')).hexdigest() # TODO\n",
    "example_hash"
   ]
  },
  {
   "cell_type": "code",
   "execution_count": 2,
   "metadata": {},
   "outputs": [],
   "source": [
    "mr = Redis(host=\"localhost\")"
   ]
  },
  {
   "cell_type": "code",
   "execution_count": 3,
   "metadata": {},
   "outputs": [
    {
     "data": {
      "text/plain": [
       "{'action': None, 'expire_timestamp': 1713690179}"
      ]
     },
     "execution_count": 3,
     "metadata": {},
     "output_type": "execute_result"
    }
   ],
   "source": [
    "mr.create_record(\n",
    "    hash_of_state=example_hash,\n",
    "    wait_time=1\n",
    ")\n",
    "mr.get_record(\n",
    "    hash_of_state=example_hash\n",
    ")\n",
    "# action should be None in the begining"
   ]
  },
  {
   "cell_type": "code",
   "execution_count": 4,
   "metadata": {},
   "outputs": [
    {
     "data": {
      "text/plain": [
       "{'action': '0,3', 'expire_timestamp': 1713690179}"
      ]
     },
     "execution_count": 4,
     "metadata": {},
     "output_type": "execute_result"
    }
   ],
   "source": [
    "mr.update_record(\n",
    "    hash_of_state=example_hash,\n",
    "    action = \"0,3\"\n",
    ")\n",
    "mr.get_record(\n",
    "    hash_of_state=example_hash\n",
    ")\n",
    "# action will be changed to '0,3'"
   ]
  },
  {
   "cell_type": "markdown",
   "metadata": {},
   "source": [
    "# DBManager"
   ]
  },
  {
   "cell_type": "code",
   "execution_count": 5,
   "metadata": {},
   "outputs": [
    {
     "data": {
      "text/plain": [
       "b'Hello, this is DB-Manager!'"
      ]
     },
     "execution_count": 5,
     "metadata": {},
     "output_type": "execute_result"
    }
   ],
   "source": [
    "from db_manager import DBManager\n",
    "\n",
    "dm = DBManager()\n",
    "res = dm.hello()\n",
    "\n",
    "res.content\n",
    "# b'Hello, this is DB-Manager!'"
   ]
  },
  {
   "cell_type": "code",
   "execution_count": 6,
   "metadata": {},
   "outputs": [
    {
     "name": "stdout",
     "output_type": "stream",
     "text": [
      "this is from database manager: b'[\\n  200,\\n  \"update record success!\"\\n]\\n'\n"
     ]
    },
    {
     "data": {
      "text/plain": [
       "{'action': '0,4', 'expire_timestamp': 1713690179}"
      ]
     },
     "execution_count": 6,
     "metadata": {},
     "output_type": "execute_result"
    }
   ],
   "source": [
    "res = dm.update_record(hash_of_state=example_hash, action=\"0,4\")\n",
    "\n",
    "print(\"this is from database manager:\", res.content)\n",
    "\n",
    "mr.get_record(\n",
    "    hash_of_state=example_hash\n",
    ")"
   ]
  },
  {
   "cell_type": "code",
   "execution_count": 10,
   "metadata": {},
   "outputs": [
    {
     "data": {
      "text/plain": [
       "b'[\\n  200,\\n  \"0,4\"\\n]\\n'"
      ]
     },
     "execution_count": 10,
     "metadata": {},
     "output_type": "execute_result"
    }
   ],
   "source": [
    "# mock data\n",
    "res = dm.get_choice(state=example_state)\n",
    "res.content\n",
    "# b'[\\n  200,\\n  \"0,4\"\\n]\\n'"
   ]
  },
  {
   "cell_type": "code",
   "execution_count": 7,
   "metadata": {},
   "outputs": [
    {
     "data": {
      "text/plain": [
       "b'[\\n  200,\\n  \"please wait(0)\",\\n  1713694225\\n]\\n'"
      ]
     },
     "execution_count": 7,
     "metadata": {},
     "output_type": "execute_result"
    }
   ],
   "source": [
    "res = dm.get_choice(\n",
    "    state=\"...........................OX......XO...........................\"\n",
    "    )\n",
    "res.content\n",
    "# b'[\\n  200,\\n  \"please wait(0)\",\\n  1713694225\\n]\\n'"
   ]
  },
  {
   "cell_type": "code",
   "execution_count": 8,
   "metadata": {},
   "outputs": [
    {
     "data": {
      "text/plain": [
       "b'[\\n  200,\\n  \"5,4\"\\n]\\n'"
      ]
     },
     "execution_count": 8,
     "metadata": {},
     "output_type": "execute_result"
    }
   ],
   "source": [
    "res = dm.get_choice(\n",
    "    state=\"...........................OX......XO...........................\"\n",
    "    )\n",
    "res.content\n",
    "# b'[\\n  200,\\n  \"5,4\"\\n]\\n'"
   ]
  }
 ],
 "metadata": {
  "kernelspec": {
   "display_name": "Python 3",
   "language": "python",
   "name": "python3"
  },
  "language_info": {
   "codemirror_mode": {
    "name": "ipython",
    "version": 3
   },
   "file_extension": ".py",
   "mimetype": "text/x-python",
   "name": "python",
   "nbconvert_exporter": "python",
   "pygments_lexer": "ipython3",
   "version": "3.11.1"
  }
 },
 "nbformat": 4,
 "nbformat_minor": 2
}
